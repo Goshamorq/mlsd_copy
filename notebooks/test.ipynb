{
 "cells": [
  {
   "cell_type": "markdown",
   "id": "9b6cad97-9ec8-4f91-8473-168a8c6f234b",
   "metadata": {
    "jp-MarkdownHeadingCollapsed": true
   },
   "source": [
    "# Imports"
   ]
  },
  {
   "cell_type": "code",
   "execution_count": null,
   "id": "f2982692-4325-49b1-9def-553156d7c6e3",
   "metadata": {},
   "outputs": [],
   "source": [
    "!pip list | grep scipy "
   ]
  },
  {
   "cell_type": "code",
   "execution_count": 100,
   "id": "c4717fc9-63dc-439c-b0f5-a5457100e80b",
   "metadata": {},
   "outputs": [],
   "source": [
    "# torch                              2.2.0\n",
    "# transformers                       4.46.3\n",
    "# Levenshtein                        0.25.1\n",
    "# pandas                             1.4.4\n",
    "# numpy                              1.21.2\n",
    "# scipy                              1.8.0\n",
    "import torch \n",
    "import transformers\n",
    "import Levenshtein\n",
    "import pandas as pd\n",
    "import numpy as np\n",
    "from tqdm import tqdm\n",
    "from scipy.spatial.distance import cdist"
   ]
  },
  {
   "cell_type": "code",
   "execution_count": 101,
   "id": "1023e949-7af8-4625-a578-1c73eb8df2f9",
   "metadata": {},
   "outputs": [
    {
     "data": {
      "text/plain": [
       "<torch._C.Generator at 0x7febf2c35270>"
      ]
     },
     "execution_count": 101,
     "metadata": {},
     "output_type": "execute_result"
    }
   ],
   "source": [
    "# seed everything\n",
    "seed = 21\n",
    "np.random.seed(seed)\n",
    "torch.manual_seed(seed)"
   ]
  },
  {
   "cell_type": "markdown",
   "id": "7ea33db1-6491-4ca7-bc92-b10a1edabe21",
   "metadata": {
    "jp-MarkdownHeadingCollapsed": true
   },
   "source": [
    "# Data"
   ]
  },
  {
   "cell_type": "code",
   "execution_count": 102,
   "id": "4a4a0a2d-aee9-42c8-aab1-256a367da5f9",
   "metadata": {},
   "outputs": [],
   "source": [
    "df_ = pd.read_csv(\"walmart.csv\")"
   ]
  },
  {
   "cell_type": "code",
   "execution_count": 103,
   "id": "109a5f9a-ac92-4944-a18f-e350469f2213",
   "metadata": {},
   "outputs": [],
   "source": [
    "df = df_[['Uniq Id', 'Description']]\n",
    "df = df.loc[df['Description'].notna()]\n",
    "df = df.loc[df['Description'].notnull()]\n",
    "# all descriptions had same prefix (up to 162 symbol)\n",
    "df[\"Description\"] = df[\"Description\"].apply(lambda x: x[162:])\n",
    "df_small =  df[:4000]"
   ]
  },
  {
   "cell_type": "markdown",
   "id": "dab2d170-29d5-4ac9-9e1f-0054e714db80",
   "metadata": {
    "jp-MarkdownHeadingCollapsed": true
   },
   "source": [
    "# Basline model"
   ]
  },
  {
   "cell_type": "code",
   "execution_count": 104,
   "id": "7eb44b36-e6e2-4997-aad1-f5a4096f1d85",
   "metadata": {},
   "outputs": [],
   "source": [
    "# simply search closest products by Levenshtein distance\n",
    "def get_n_rank(query, products, N = 10):\n",
    "    products[\"Dist\"] = products[\"Description\"].apply(lambda x: Levenshtein.distance(query, x))\n",
    "    return products.sort_values(by = \"Dist\")[:N]['Uniq Id']\n",
    "    "
   ]
  },
  {
   "cell_type": "code",
   "execution_count": 105,
   "id": "148e3029-b851-40a9-85fc-29a4f2800065",
   "metadata": {
    "scrolled": true
   },
   "outputs": [
    {
     "name": "stderr",
     "output_type": "stream",
     "text": [
      "/var/folders/ld/y777mp_d3_lfq63x8dh38ps00000gn/T/ipykernel_20694/1241187844.py:2: SettingWithCopyWarning: \n",
      "A value is trying to be set on a copy of a slice from a DataFrame.\n",
      "Try using .loc[row_indexer,col_indexer] = value instead\n",
      "\n",
      "See the caveats in the documentation: https://pandas.pydata.org/pandas-docs/stable/user_guide/indexing.html#returning-a-view-versus-a-copy\n",
      "  products[\"Dist\"] = products[\"Description\"].apply(lambda x: Levenshtein.distance(query, x))\n"
     ]
    }
   ],
   "source": [
    "query = \"cookie with chocolate\"\n",
    "result = get_n_rank(query, df_small, N = 10)"
   ]
  },
  {
   "cell_type": "code",
   "execution_count": 106,
   "id": "797681a3-ee46-4011-80ac-a6b4e3d4e7b8",
   "metadata": {},
   "outputs": [
    {
     "data": {
      "text/html": [
       "<div>\n",
       "<style scoped>\n",
       "    .dataframe tbody tr th:only-of-type {\n",
       "        vertical-align: middle;\n",
       "    }\n",
       "\n",
       "    .dataframe tbody tr th {\n",
       "        vertical-align: top;\n",
       "    }\n",
       "\n",
       "    .dataframe thead th {\n",
       "        text-align: right;\n",
       "    }\n",
       "</style>\n",
       "<table border=\"1\" class=\"dataframe\">\n",
       "  <thead>\n",
       "    <tr style=\"text-align: right;\">\n",
       "      <th></th>\n",
       "      <th>Uniq Id</th>\n",
       "      <th>Description</th>\n",
       "      <th>Dist</th>\n",
       "    </tr>\n",
       "  </thead>\n",
       "  <tbody>\n",
       "    <tr>\n",
       "      <th>1400</th>\n",
       "      <td>d842ffaadb2592f28c89269b2e43da8a</td>\n",
       "      <td>KM Mask Wraps</td>\n",
       "      <td>18</td>\n",
       "    </tr>\n",
       "    <tr>\n",
       "      <th>1968</th>\n",
       "      <td>03c0a3b2eb1f0a0abc6a54ca6341ad42</td>\n",
       "      <td>Eye black. Eye Black</td>\n",
       "      <td>18</td>\n",
       "    </tr>\n",
       "    <tr>\n",
       "      <th>3464</th>\n",
       "      <td>16b13b5d4249b5028be1b5b959f4f3bd</td>\n",
       "      <td>Insect Killer, 80 Watt</td>\n",
       "      <td>18</td>\n",
       "    </tr>\n",
       "    <tr>\n",
       "      <th>177</th>\n",
       "      <td>87fb745148514a09965b4569fee9b2b0</td>\n",
       "      <td>new</td>\n",
       "      <td>19</td>\n",
       "    </tr>\n",
       "    <tr>\n",
       "      <th>1841</th>\n",
       "      <td>6190f498f0e431cf62f783a12d131f5e</td>\n",
       "      <td>new</td>\n",
       "      <td>19</td>\n",
       "    </tr>\n",
       "    <tr>\n",
       "      <th>1942</th>\n",
       "      <td>f7d06ec763a9348bb7f8bad91f961e98</td>\n",
       "      <td>tit</td>\n",
       "      <td>19</td>\n",
       "    </tr>\n",
       "    <tr>\n",
       "      <th>3027</th>\n",
       "      <td>b09b7c670681ddbf1eea9ce5a25b6c5c</td>\n",
       "      <td>new</td>\n",
       "      <td>19</td>\n",
       "    </tr>\n",
       "    <tr>\n",
       "      <th>3089</th>\n",
       "      <td>6108ad3cd818aff45f8025a52b467b08</td>\n",
       "      <td>Official is 6\"x24\" 0</td>\n",
       "      <td>19</td>\n",
       "    </tr>\n",
       "    <tr>\n",
       "      <th>3182</th>\n",
       "      <td>682a3ded1ab1559575c7ffa7e7288faf</td>\n",
       "      <td>Promax Brake Rear Red.</td>\n",
       "      <td>19</td>\n",
       "    </tr>\n",
       "    <tr>\n",
       "      <th>3826</th>\n",
       "      <td>1f518b6fa64b9a77b57cac76a029653a</td>\n",
       "      <td>Psyllium Whole Husks</td>\n",
       "      <td>19</td>\n",
       "    </tr>\n",
       "  </tbody>\n",
       "</table>\n",
       "</div>"
      ],
      "text/plain": [
       "                               Uniq Id             Description  Dist\n",
       "1400  d842ffaadb2592f28c89269b2e43da8a           KM Mask Wraps    18\n",
       "1968  03c0a3b2eb1f0a0abc6a54ca6341ad42    Eye black. Eye Black    18\n",
       "3464  16b13b5d4249b5028be1b5b959f4f3bd  Insect Killer, 80 Watt    18\n",
       "177   87fb745148514a09965b4569fee9b2b0                     new    19\n",
       "1841  6190f498f0e431cf62f783a12d131f5e                     new    19\n",
       "1942  f7d06ec763a9348bb7f8bad91f961e98                     tit    19\n",
       "3027  b09b7c670681ddbf1eea9ce5a25b6c5c                     new    19\n",
       "3089  6108ad3cd818aff45f8025a52b467b08    Official is 6\"x24\" 0    19\n",
       "3182  682a3ded1ab1559575c7ffa7e7288faf  Promax Brake Rear Red.    19\n",
       "3826  1f518b6fa64b9a77b57cac76a029653a    Psyllium Whole Husks    19"
      ]
     },
     "execution_count": 106,
     "metadata": {},
     "output_type": "execute_result"
    }
   ],
   "source": [
    "# awfull data...\n",
    "df_small[df_small[\"Uniq Id\"].isin(result) ].sort_values(by = \"Dist\")"
   ]
  },
  {
   "cell_type": "markdown",
   "id": "ce2d8b9b-88b4-4a03-b68c-6c10b26a1f40",
   "metadata": {},
   "source": [
    "# ML model"
   ]
  },
  {
   "cell_type": "code",
   "execution_count": 107,
   "id": "cb22b2e6-4d2e-425a-a868-7aee5b5c830c",
   "metadata": {},
   "outputs": [],
   "source": [
    "# https://huggingface.co/docs/transformers/model_doc/distilbert\n",
    "# we desided to use that particular model due to its small sizes\n",
    "\n",
    "from transformers import AutoTokenizer, DistilBertModel\n",
    "import torch\n",
    "\n",
    "class Model:\n",
    "    def __init__(self, product_DB: pd.DataFrame, to_set_up: bool = False, path_to_vector_BD: str = None):\n",
    "\n",
    "        # gona instantiate once with special flag\n",
    "        # or method -  to pervent accidental start\n",
    "        # of such a heavy process\n",
    "        self.model = None\n",
    "        self.tokenizer = None\n",
    "\n",
    "        # np.Array of pre-computed vectores\n",
    "        # representing products\n",
    "        self.vector_DB = None\n",
    "\n",
    "        # Download from .npy file\n",
    "        if path_to_vector_BD:\n",
    "            print(\"Downloading Vector BD\")\n",
    "            self.vector_DB = np.load(path_to_vector_BD)\n",
    "\n",
    "        # pandas dataframe with columns \"Description\" and \"Uniq Id\"\n",
    "        self.products_DB = product_DB.sort_values(by = \"Uniq Id\")\n",
    "            \n",
    "        # start model and tokenizer downloading and \n",
    "        # instantiating \n",
    "        if to_set_up:\n",
    "            self.set_up()\n",
    "        \n",
    "    def set_up(self, max_position_embeddings = 512):\n",
    "        #  model and tokenizer downloading and instantiating \n",
    "        self.tokenizer = AutoTokenizer.from_pretrained(\"distilbert-base-uncased\")\n",
    "        self.model = DistilBertModel.from_pretrained(\"distilbert-base-uncased\", max_position_embeddings = max_position_embeddings)\n",
    "\n",
    "    def calc_embeding(self, X: str):\n",
    "        # calulate embeding for one user quary\n",
    "        if not self.model:\n",
    "            print(\"U should set_up() nodel first!\")\n",
    "            return \n",
    "        inputs = self.tokenizer(X[:512], return_tensors=\"pt\")\n",
    "        return self.model(**inputs).last_hidden_state[:,-1,:].detach().numpy()\n",
    "        \n",
    "    \n",
    "    def form_vector_DB(self):\n",
    "        # forms vector embedings of products\n",
    "        # self.products_DB (if not provided)\n",
    "        \n",
    "        if self.vector_DB is not None:\n",
    "            print(\"Vector DB already exists!\")\n",
    "            return\n",
    "            \n",
    "        self.vector_DB = np.stack(\n",
    "            tuple( self.calc_embeding(row[\"Description\"]) for _, row in tqdm(self.products_DB.sort_values(by = \"Uniq Id\").iterrows(), total = len(self.products_DB))\n",
    "            )\n",
    "        )\n",
    "        \n",
    "    def get_n_rank(self, query, n = 10):\n",
    "        # get top n closest simanticly products ID's\n",
    "        \n",
    "        if self.vector_DB is None:\n",
    "            print(\"No Vector DB exists!\")\n",
    "            return \n",
    "            \n",
    "        if not self.model:\n",
    "            print(\"U should set_up() nodel first!\")\n",
    "            return \n",
    "            \n",
    "        query_v = self.calc_embeding(query)\n",
    "        top_indx = cdist(query_v, self.vector_DB, 'cosine')[0].argsort()[:n] # top most simular (with smallar distance)\n",
    "        out_uniq_id = self.products_DB.sort_values(by = \"Uniq Id\").iloc[top_indx][\"Uniq Id\"]\n",
    "        return out_uniq_id"
   ]
  },
  {
   "cell_type": "code",
   "execution_count": 108,
   "id": "5c3c8dd7-37e8-4e82-8589-3690ccf4c436",
   "metadata": {},
   "outputs": [
    {
     "name": "stdout",
     "output_type": "stream",
     "text": [
      "Downloading Vector BD\n"
     ]
    }
   ],
   "source": [
    "# init vodel\n",
    "m = Model(df_small, path_to_vector_BD = \"vector_BD.npy\", to_set_up = True)"
   ]
  },
  {
   "cell_type": "code",
   "execution_count": 109,
   "id": "487d26f5-a9ad-4df8-953c-7f8eb1146909",
   "metadata": {},
   "outputs": [],
   "source": [
    "# quary test sample\n",
    "query = \"cookie with chocolate\"\n",
    "query_v = m.calc_embeding(query)"
   ]
  },
  {
   "cell_type": "code",
   "execution_count": 110,
   "id": "8cc06894-8c86-4c4d-a980-5f7c22c8b428",
   "metadata": {},
   "outputs": [
    {
     "data": {
      "text/html": [
       "<div>\n",
       "<style scoped>\n",
       "    .dataframe tbody tr th:only-of-type {\n",
       "        vertical-align: middle;\n",
       "    }\n",
       "\n",
       "    .dataframe tbody tr th {\n",
       "        vertical-align: top;\n",
       "    }\n",
       "\n",
       "    .dataframe thead th {\n",
       "        text-align: right;\n",
       "    }\n",
       "</style>\n",
       "<table border=\"1\" class=\"dataframe\">\n",
       "  <thead>\n",
       "    <tr style=\"text-align: right;\">\n",
       "      <th></th>\n",
       "      <th>Uniq Id</th>\n",
       "      <th>Description</th>\n",
       "      <th>Dist</th>\n",
       "    </tr>\n",
       "  </thead>\n",
       "  <tbody>\n",
       "    <tr>\n",
       "      <th>458</th>\n",
       "      <td>01051b12407b3eaddcaa7fd46c5e69b1</td>\n",
       "      <td>Warm Cinnamon Roll Dip Mix</td>\n",
       "      <td>24</td>\n",
       "    </tr>\n",
       "    <tr>\n",
       "      <th>850</th>\n",
       "      <td>77a82b87b862a17578ce534c82a53104</td>\n",
       "      <td>CHOCOLATE CARNIVOR SHRED CHOCOLATE 28/S</td>\n",
       "      <td>37</td>\n",
       "    </tr>\n",
       "    <tr>\n",
       "      <th>1259</th>\n",
       "      <td>b3d3a3747f124e7e2514be3fcc7004c3</td>\n",
       "      <td>Suzo Happ Pool Table Cloth Felt Cleaner</td>\n",
       "      <td>29</td>\n",
       "    </tr>\n",
       "    <tr>\n",
       "      <th>1265</th>\n",
       "      <td>5e995e826d5039642e757b35343056c2</td>\n",
       "      <td>Toy Story 4 Color Twist Bath Bomb Sheriff Cott...</td>\n",
       "      <td>132</td>\n",
       "    </tr>\n",
       "    <tr>\n",
       "      <th>2055</th>\n",
       "      <td>0d24fcaf5be6782e707c325395dfe4e2</td>\n",
       "      <td>Food club peanut butter crunchy Crunchy Peanut...</td>\n",
       "      <td>41</td>\n",
       "    </tr>\n",
       "    <tr>\n",
       "      <th>2063</th>\n",
       "      <td>1b7094717e52c708870a9f15c4f0bf93</td>\n",
       "      <td>Greenmax - Rice &amp; Peanut Milk with Brown Sugar...</td>\n",
       "      <td>47</td>\n",
       "    </tr>\n",
       "    <tr>\n",
       "      <th>2345</th>\n",
       "      <td>c045e4d36625067483ecebeae97dc671</td>\n",
       "      <td>Chifles Sweet Plantain Chips 9 oz</td>\n",
       "      <td>27</td>\n",
       "    </tr>\n",
       "    <tr>\n",
       "      <th>2370</th>\n",
       "      <td>66a18e6925b9ad8aa73f02526590541b</td>\n",
       "      <td>Food Club, Petite Diced Tomatoes</td>\n",
       "      <td>21</td>\n",
       "    </tr>\n",
       "    <tr>\n",
       "      <th>3937</th>\n",
       "      <td>f5c9eaf3f8df57c87388b14e7e5a0215</td>\n",
       "      <td>Plains Dairy Premium Chocolate Milk, 1 Pint</td>\n",
       "      <td>31</td>\n",
       "    </tr>\n",
       "    <tr>\n",
       "      <th>3943</th>\n",
       "      <td>ea85d77c98c88478e28cf845085dfa44</td>\n",
       "      <td>Sweets Candy Milk Chocolate Sticks, Raspberry,...</td>\n",
       "      <td>44</td>\n",
       "    </tr>\n",
       "  </tbody>\n",
       "</table>\n",
       "</div>"
      ],
      "text/plain": [
       "                               Uniq Id  \\\n",
       "458   01051b12407b3eaddcaa7fd46c5e69b1   \n",
       "850   77a82b87b862a17578ce534c82a53104   \n",
       "1259  b3d3a3747f124e7e2514be3fcc7004c3   \n",
       "1265  5e995e826d5039642e757b35343056c2   \n",
       "2055  0d24fcaf5be6782e707c325395dfe4e2   \n",
       "2063  1b7094717e52c708870a9f15c4f0bf93   \n",
       "2345  c045e4d36625067483ecebeae97dc671   \n",
       "2370  66a18e6925b9ad8aa73f02526590541b   \n",
       "3937  f5c9eaf3f8df57c87388b14e7e5a0215   \n",
       "3943  ea85d77c98c88478e28cf845085dfa44   \n",
       "\n",
       "                                            Description  Dist  \n",
       "458                          Warm Cinnamon Roll Dip Mix    24  \n",
       "850             CHOCOLATE CARNIVOR SHRED CHOCOLATE 28/S    37  \n",
       "1259            Suzo Happ Pool Table Cloth Felt Cleaner    29  \n",
       "1265  Toy Story 4 Color Twist Bath Bomb Sheriff Cott...   132  \n",
       "2055  Food club peanut butter crunchy Crunchy Peanut...    41  \n",
       "2063  Greenmax - Rice & Peanut Milk with Brown Sugar...    47  \n",
       "2345                  Chifles Sweet Plantain Chips 9 oz    27  \n",
       "2370                   Food Club, Petite Diced Tomatoes    21  \n",
       "3937        Plains Dairy Premium Chocolate Milk, 1 Pint    31  \n",
       "3943  Sweets Candy Milk Chocolate Sticks, Raspberry,...    44  "
      ]
     },
     "execution_count": 110,
     "metadata": {},
     "output_type": "execute_result"
    }
   ],
   "source": [
    "# top 10 most related products\n",
    "df_small[df_small[\"Uniq Id\"].isin(m.get_n_rank( query, 10))]"
   ]
  },
  {
   "cell_type": "code",
   "execution_count": null,
   "id": "ca727af0-ba23-4bd1-a217-bc6e1fbc87bf",
   "metadata": {},
   "outputs": [],
   "source": []
  }
 ],
 "metadata": {
  "kernelspec": {
   "display_name": "Python 3 (ipykernel)",
   "language": "python",
   "name": "python3"
  },
  "language_info": {
   "codemirror_mode": {
    "name": "ipython",
    "version": 3
   },
   "file_extension": ".py",
   "mimetype": "text/x-python",
   "name": "python",
   "nbconvert_exporter": "python",
   "pygments_lexer": "ipython3",
   "version": "3.8.17"
  }
 },
 "nbformat": 4,
 "nbformat_minor": 5
}
